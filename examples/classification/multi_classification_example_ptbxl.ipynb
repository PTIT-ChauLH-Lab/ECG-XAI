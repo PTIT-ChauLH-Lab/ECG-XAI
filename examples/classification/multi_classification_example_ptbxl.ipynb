{
 "cells": [
  {
   "cell_type": "markdown",
   "id": "a2f082db",
   "metadata": {
    "ExecuteTime": {
     "end_time": "2022-05-16T20:11:29.105213Z",
     "start_time": "2022-05-16T20:11:27.031042Z"
    }
   },
   "source": [
    "## Multi-class classification example\n",
    "\n",
    "In this example we show how the ecgxai package can be used to easily build a classification system for multiple classes (in this case for Sinus Rhythm (NSR), Sinus Arrhythmia (SA), Sinus Bradycardia (SB) and Sinus tachycardia (STach)). We train the model on the PTB-XL dataset and use 'double residual' convolution resnet architecture. "
   ]
  },
  {
   "cell_type": "code",
   "execution_count": 8,
   "id": "b159017d",
   "metadata": {},
   "outputs": [
    {
     "name": "stdout",
     "output_type": "stream",
     "text": [
      "Requirement already satisfied: pip in c:\\users\\admin\\appdata\\local\\programs\\python\\python39\\lib\\site-packages (25.1.1)\n",
      "Note: you may need to restart the kernel to use updated packages.\n"
     ]
    }
   ],
   "source": [
    "pip install --upgrade pip"
   ]
  },
  {
   "cell_type": "code",
   "execution_count": 9,
   "id": "6af0e26c-4afc-4e29-9d2c-003d7096e3b0",
   "metadata": {},
   "outputs": [
    {
     "name": "stdout",
     "output_type": "stream",
     "text": [
      "Requirement already satisfied: torch==2.7.0 in c:\\users\\admin\\appdata\\local\\programs\\python\\python39\\lib\\site-packages (2.7.0)\n",
      "Requirement already satisfied: torchvision in c:\\users\\admin\\appdata\\local\\programs\\python\\python39\\lib\\site-packages (0.22.0)\n",
      "Requirement already satisfied: torchaudio in c:\\users\\admin\\appdata\\local\\programs\\python\\python39\\lib\\site-packages (2.7.0)\n",
      "Requirement already satisfied: torchmetrics in c:\\users\\admin\\appdata\\local\\programs\\python\\python39\\lib\\site-packages (0.9.1)\n",
      "Requirement already satisfied: torchinfo in c:\\users\\admin\\appdata\\local\\programs\\python\\python39\\lib\\site-packages (1.8.0)\n",
      "Requirement already satisfied: scipy in c:\\users\\admin\\appdata\\local\\programs\\python\\python39\\lib\\site-packages (1.13.1)\n",
      "Requirement already satisfied: scikit-learn in c:\\users\\admin\\appdata\\local\\programs\\python\\python39\\lib\\site-packages (1.6.1)\n",
      "Requirement already satisfied: pandas in c:\\users\\admin\\appdata\\local\\programs\\python\\python39\\lib\\site-packages (2.2.3)\n",
      "Requirement already satisfied: matplotlib in c:\\users\\admin\\appdata\\local\\programs\\python\\python39\\lib\\site-packages (3.9.4)\n",
      "Requirement already satisfied: filelock in c:\\users\\admin\\appdata\\local\\programs\\python\\python39\\lib\\site-packages (from torch==2.7.0) (3.18.0)\n",
      "Requirement already satisfied: typing-extensions>=4.10.0 in c:\\users\\admin\\appdata\\roaming\\python\\python39\\site-packages (from torch==2.7.0) (4.13.2)\n",
      "Requirement already satisfied: sympy>=1.13.3 in c:\\users\\admin\\appdata\\local\\programs\\python\\python39\\lib\\site-packages (from torch==2.7.0) (1.14.0)\n",
      "Requirement already satisfied: networkx in c:\\users\\admin\\appdata\\local\\programs\\python\\python39\\lib\\site-packages (from torch==2.7.0) (3.2.1)\n",
      "Requirement already satisfied: jinja2 in c:\\users\\admin\\appdata\\local\\programs\\python\\python39\\lib\\site-packages (from torch==2.7.0) (3.1.6)\n",
      "Requirement already satisfied: fsspec in c:\\users\\admin\\appdata\\local\\programs\\python\\python39\\lib\\site-packages (from torch==2.7.0) (2025.5.1)\n",
      "Requirement already satisfied: numpy in c:\\users\\admin\\appdata\\local\\programs\\python\\python39\\lib\\site-packages (from torchvision) (2.0.2)\n",
      "Requirement already satisfied: pillow!=8.3.*,>=5.3.0 in c:\\users\\admin\\appdata\\local\\programs\\python\\python39\\lib\\site-packages (from torchvision) (11.2.1)\n",
      "Requirement already satisfied: packaging in c:\\users\\admin\\appdata\\roaming\\python\\python39\\site-packages (from torchmetrics) (25.0)\n",
      "Requirement already satisfied: joblib>=1.2.0 in c:\\users\\admin\\appdata\\local\\programs\\python\\python39\\lib\\site-packages (from scikit-learn) (1.5.1)\n",
      "Requirement already satisfied: threadpoolctl>=3.1.0 in c:\\users\\admin\\appdata\\local\\programs\\python\\python39\\lib\\site-packages (from scikit-learn) (3.6.0)\n",
      "Requirement already satisfied: python-dateutil>=2.8.2 in c:\\users\\admin\\appdata\\roaming\\python\\python39\\site-packages (from pandas) (2.9.0.post0)\n",
      "Requirement already satisfied: pytz>=2020.1 in c:\\users\\admin\\appdata\\local\\programs\\python\\python39\\lib\\site-packages (from pandas) (2025.2)\n",
      "Requirement already satisfied: tzdata>=2022.7 in c:\\users\\admin\\appdata\\local\\programs\\python\\python39\\lib\\site-packages (from pandas) (2025.2)\n",
      "Requirement already satisfied: contourpy>=1.0.1 in c:\\users\\admin\\appdata\\local\\programs\\python\\python39\\lib\\site-packages (from matplotlib) (1.3.0)\n",
      "Requirement already satisfied: cycler>=0.10 in c:\\users\\admin\\appdata\\local\\programs\\python\\python39\\lib\\site-packages (from matplotlib) (0.12.1)\n",
      "Requirement already satisfied: fonttools>=4.22.0 in c:\\users\\admin\\appdata\\local\\programs\\python\\python39\\lib\\site-packages (from matplotlib) (4.58.1)\n",
      "Requirement already satisfied: kiwisolver>=1.3.1 in c:\\users\\admin\\appdata\\local\\programs\\python\\python39\\lib\\site-packages (from matplotlib) (1.4.7)\n",
      "Requirement already satisfied: pyparsing>=2.3.1 in c:\\users\\admin\\appdata\\local\\programs\\python\\python39\\lib\\site-packages (from matplotlib) (3.2.3)\n",
      "Requirement already satisfied: importlib-resources>=3.2.0 in c:\\users\\admin\\appdata\\local\\programs\\python\\python39\\lib\\site-packages (from matplotlib) (6.5.2)\n",
      "Requirement already satisfied: zipp>=3.1.0 in c:\\users\\admin\\appdata\\roaming\\python\\python39\\site-packages (from importlib-resources>=3.2.0->matplotlib) (3.22.0)\n",
      "Requirement already satisfied: six>=1.5 in c:\\users\\admin\\appdata\\roaming\\python\\python39\\site-packages (from python-dateutil>=2.8.2->pandas) (1.17.0)\n",
      "Requirement already satisfied: mpmath<1.4,>=1.1.0 in c:\\users\\admin\\appdata\\local\\programs\\python\\python39\\lib\\site-packages (from sympy>=1.13.3->torch==2.7.0) (1.3.0)\n",
      "Requirement already satisfied: MarkupSafe>=2.0 in c:\\users\\admin\\appdata\\local\\programs\\python\\python39\\lib\\site-packages (from jinja2->torch==2.7.0) (3.0.2)\n",
      "Note: you may need to restart the kernel to use updated packages.\n"
     ]
    }
   ],
   "source": [
    "pip install torch==2.7.0 torchvision torchaudio torchmetrics torchinfo scipy scikit-learn pandas matplotlib"
   ]
  },
  {
   "cell_type": "code",
   "execution_count": 10,
   "id": "b30ca4b3",
   "metadata": {},
   "outputs": [
    {
     "name": "stdout",
     "output_type": "stream",
     "text": [
      "2.7.0+cpu\n"
     ]
    }
   ],
   "source": [
    "import torch\n",
    "print(torch.__version__)"
   ]
  },
  {
   "cell_type": "code",
   "execution_count": 11,
   "id": "9ca24464",
   "metadata": {},
   "outputs": [
    {
     "name": "stdout",
     "output_type": "stream",
     "text": [
      "Requirement already satisfied: tqdm in c:\\users\\admin\\appdata\\local\\programs\\python\\python39\\lib\\site-packages (4.67.1)\n",
      "Requirement already satisfied: colorama in c:\\users\\admin\\appdata\\roaming\\python\\python39\\site-packages (from tqdm) (0.4.6)\n",
      "Note: you may need to restart the kernel to use updated packages.\n"
     ]
    }
   ],
   "source": [
    "pip install tqdm"
   ]
  },
  {
   "cell_type": "code",
   "execution_count": 12,
   "id": "df916127",
   "metadata": {},
   "outputs": [
    {
     "name": "stdout",
     "output_type": "stream",
     "text": [
      "Root project directory: c:\\Users\\admin\\Desktop\\ecgxai\\ecgxai\n"
     ]
    }
   ],
   "source": [
    "import sys\n",
    "import os\n",
    "\n",
    "# Lấy thư mục làm việc hiện tại\n",
    "current_dir = os.getcwd()\n",
    "\n",
    "# Lấy thư mục cha (root project)\n",
    "root_dir = os.path.abspath(os.path.join(current_dir, '../..'))\n",
    "print(\"Root project directory:\", root_dir)\n",
    "\n",
    "if root_dir not in sys.path:\n",
    "    sys.path.insert(0, root_dir)"
   ]
  },
  {
   "cell_type": "code",
   "execution_count": 13,
   "id": "60f323e8",
   "metadata": {
    "ExecuteTime": {
     "end_time": "2022-05-17T15:29:52.277956Z",
     "start_time": "2022-05-17T15:29:51.301506Z"
    }
   },
   "outputs": [
    {
     "name": "stdout",
     "output_type": "stream",
     "text": [
      "The autoreload extension is already loaded. To reload it, use:\n",
      "  %reload_ext autoreload\n"
     ]
    }
   ],
   "source": [
    "%load_ext autoreload\n",
    "%autoreload 2\n",
    "# We first import the required data utilities from the ecgxai package\n",
    "from ecgxai.utils.dataset import PTBXLDataset\n",
    "from ecgxai.utils.transforms import ApplyGain, ToTensor\n",
    "\n",
    "# We also import some additional utilities from other packages for additionally functionality\n",
    "from torch.utils.data import DataLoader\n",
    "from torchvision.transforms import Compose"
   ]
  },
  {
   "cell_type": "code",
   "execution_count": 14,
   "id": "91f9b4b6",
   "metadata": {
    "ExecuteTime": {
     "end_time": "2022-05-17T15:29:54.321272Z",
     "start_time": "2022-05-17T15:29:52.279290Z"
    }
   },
   "outputs": [
    {
     "name": "stderr",
     "output_type": "stream",
     "text": [
      "100%|██████████| 21837/21837 [00:00<00:00, 29509.30it/s]\n"
     ]
    }
   ],
   "source": [
    "# The PTBXL dataset class automatically downloads and extract the PTB-XL 12 lead dataset\n",
    "dataset = PTBXLDataset(\n",
    "    # The p                                        ath parameter defines where the data should be stored and were the data can be found in the future\n",
    "    path=r\"C:\\Users\\admin\\Desktop\\ecgxai\\ecgxai\\WFDB_PTBXL\\PTB_XL\", \n",
    "    # We use the ApplyGain and ToTensor transformation (chained through the compose class)\n",
    "    # to format the data into the desired format. In the case of PTB-XL, all the input data\n",
    "    # is devided by 1000 in the ApplyGain transform to smoothen training (see the next cell for an example).\n",
    "    transform = Compose([ApplyGain(), ToTensor()]),\n",
    "    # The use_numpy parameter is set to True to speed up the loading of the data\n",
    "    use_numpy=True,\n",
    "    # As we are classifying Sinus Rhythm (NSR), Sinus Arrhythmia (SA), Sinus Bradycardia (SB) and Sinus tachycardia (STach) \n",
    "    # in this example we tell the dataset to use the 'NSR' 'SA', 'SB' and 'STach' labels. \n",
    "    labels=['NSR', 'SA', 'SB', 'STach']\n",
    ")"
   ]
  },
  {
   "cell_type": "code",
   "execution_count": 15,
   "id": "723b7844",
   "metadata": {},
   "outputs": [
    {
     "name": "stdout",
     "output_type": "stream",
     "text": [
      "Trainset:\n",
      "-- Dataset distribution -- \n",
      "Full size: 19653\n",
      "[\"NSR\"] - Num entries: 16287 (82.9%)\n",
      "[\"SA\"] - Num entries: 681 (3.47%)\n",
      "[\"SB\"] - Num entries: 573 (2.92%)\n",
      "[\"STach\"] - Num entries: 747 (3.8%)\n",
      "\n",
      " Testset: \n",
      "-- Dataset distribution -- \n",
      "Full size: 2184\n",
      "[\"NSR\"] - Num entries: 1805 (82.6%)\n",
      "[\"SA\"] - Num entries: 91 (4.17%)\n",
      "[\"SB\"] - Num entries: 64 (2.93%)\n",
      "[\"STach\"] - Num entries: 79 (3.62%)\n"
     ]
    }
   ],
   "source": [
    "# We then randomly split the dataset into a train and test set using a 90%-10% split\n",
    "trainset, testset = dataset.train_test_split(ratio=0.1, shuffle=True)\n",
    "\n",
    "print(\"Trainset:\")\n",
    "trainset.print_stats()\n",
    "\n",
    "print(\"\\n Testset: \")\n",
    "testset.print_stats()"
   ]
  },
  {
   "cell_type": "code",
   "execution_count": 16,
   "id": "48f3fa75",
   "metadata": {
    "ExecuteTime": {
     "end_time": "2022-05-17T15:29:54.337637Z",
     "start_time": "2022-05-17T15:29:54.322788Z"
    }
   },
   "outputs": [],
   "source": [
    "# The train and testset are then supplied to a pytorch dataloader which we can use to train the model\n",
    "train_loader = DataLoader(\n",
    "        trainset,\n",
    "        batch_size=64,\n",
    "        num_workers=8,\n",
    "        shuffle=True\n",
    ")\n",
    "\n",
    "test_loader = DataLoader(\n",
    "    testset,\n",
    "    batch_size=64,\n",
    "    num_workers=8\n",
    ")"
   ]
  },
  {
   "cell_type": "markdown",
   "id": "5abd82c8",
   "metadata": {},
   "source": [
    "### Checking the data\n",
    "\n",
    "The cell below plots the first lead of a sample from the dataset which we get using the __\\_\\_getitem\\_\\_()__ function which returns a dictionary. The raw ecg is stored under the 'waveform' key. "
   ]
  },
  {
   "cell_type": "code",
   "execution_count": 17,
   "id": "7f570e7d",
   "metadata": {
    "ExecuteTime": {
     "end_time": "2022-05-17T15:29:54.482801Z",
     "start_time": "2022-05-17T15:29:54.338876Z"
    },
    "scrolled": true
   },
   "outputs": [
    {
     "name": "stdout",
     "output_type": "stream",
     "text": [
      "dict_keys(['waveform', 'samplebase', 'gain', 'id', 'truebaseline_0', 'truebaseline_1', 'truebaseline_2', 'truebaseline_3', 'truebaseline_4', 'truebaseline_5', 'truebaseline_6', 'truebaseline_7', 'truebaseline_8', 'truebaseline_9', 'truebaseline_10', 'truebaseline_11', 'label'])\n"
     ]
    },
    {
     "data": {
      "text/plain": [
       "[<matplotlib.lines.Line2D at 0x1c8e9abf460>]"
      ]
     },
     "execution_count": 17,
     "metadata": {},
     "output_type": "execute_result"
    },
    {
     "data": {
      "image/png": "[encoded data removed]",
      "text/plain": [
       "<Figure size 1500x400 with 1 Axes>"
      ]
     },
     "metadata": {},
     "output_type": "display_data"
    }
   ],
   "source": [
    "import matplotlib.pyplot as plt\n",
    "\n",
    "example = trainset.__getitem__(0)\n",
    "\n",
    "# We can plot the keys of the dictionary to see what is available in the standard dataset configuration. The 'truebaseline' \n",
    "# keys are used for baseline correction in some datasets. \n",
    "print(example.keys())\n",
    "\n",
    "plt.figure(figsize=(15, 4))\n",
    "plt.plot(example['waveform'][0])"
   ]
  },
  {
   "cell_type": "markdown",
   "id": "68cf462a",
   "metadata": {},
   "source": [
    "### Initializing the model\n",
    "\n",
    "We import the CNNDoubleResidual architecture from the ecgxai package and pass it the required hyperparameters to deal with our dataset (e.g. 12 channels, 5000 measurements per lead). We choose to subsample (half the spatial dimension) each layer to limit the required number of parameters. \n",
    "\n",
    "We also define adittional Sequential and Linear layer to map the CNN output to the desired 2 classes"
   ]
  },
  {
   "cell_type": "code",
   "execution_count": 18,
   "id": "4b84dc16",
   "metadata": {},
   "outputs": [
    {
     "name": "stdout",
     "output_type": "stream",
     "text": [
      "Requirement already satisfied: pytorch-lightning==2.4.0 in c:\\users\\admin\\appdata\\local\\programs\\python\\python39\\lib\\site-packages (2.4.0)\n",
      "Requirement already satisfied: torch>=2.1.0 in c:\\users\\admin\\appdata\\local\\programs\\python\\python39\\lib\\site-packages (from pytorch-lightning==2.4.0) (2.7.0)\n",
      "Requirement already satisfied: tqdm>=4.57.0 in c:\\users\\admin\\appdata\\local\\programs\\python\\python39\\lib\\site-packages (from pytorch-lightning==2.4.0) (4.67.1)\n",
      "Requirement already satisfied: PyYAML>=5.4 in c:\\users\\admin\\appdata\\local\\programs\\python\\python39\\lib\\site-packages (from pytorch-lightning==2.4.0) (6.0.2)\n",
      "Requirement already satisfied: fsspec>=2022.5.0 in c:\\users\\admin\\appdata\\local\\programs\\python\\python39\\lib\\site-packages (from fsspec[http]>=2022.5.0->pytorch-lightning==2.4.0) (2025.5.1)\n",
      "Requirement already satisfied: torchmetrics>=0.7.0 in c:\\users\\admin\\appdata\\local\\programs\\python\\python39\\lib\\site-packages (from pytorch-lightning==2.4.0) (0.9.1)\n",
      "Requirement already satisfied: packaging>=20.0 in c:\\users\\admin\\appdata\\roaming\\python\\python39\\site-packages (from pytorch-lightning==2.4.0) (25.0)\n",
      "Requirement already satisfied: typing-extensions>=4.4.0 in c:\\users\\admin\\appdata\\roaming\\python\\python39\\site-packages (from pytorch-lightning==2.4.0) (4.13.2)\n",
      "Requirement already satisfied: lightning-utilities>=0.10.0 in c:\\users\\admin\\appdata\\local\\programs\\python\\python39\\lib\\site-packages (from pytorch-lightning==2.4.0) (0.14.3)\n",
      "Requirement already satisfied: aiohttp!=4.0.0a0,!=4.0.0a1 in c:\\users\\admin\\appdata\\local\\programs\\python\\python39\\lib\\site-packages (from fsspec[http]>=2022.5.0->pytorch-lightning==2.4.0) (3.12.4)\n",
      "Requirement already satisfied: aiohappyeyeballs>=2.5.0 in c:\\users\\admin\\appdata\\local\\programs\\python\\python39\\lib\\site-packages (from aiohttp!=4.0.0a0,!=4.0.0a1->fsspec[http]>=2022.5.0->pytorch-lightning==2.4.0) (2.6.1)\n",
      "Requirement already satisfied: aiosignal>=1.1.2 in c:\\users\\admin\\appdata\\local\\programs\\python\\python39\\lib\\site-packages (from aiohttp!=4.0.0a0,!=4.0.0a1->fsspec[http]>=2022.5.0->pytorch-lightning==2.4.0) (1.3.2)\n",
      "Requirement already satisfied: async-timeout<6.0,>=4.0 in c:\\users\\admin\\appdata\\local\\programs\\python\\python39\\lib\\site-packages (from aiohttp!=4.0.0a0,!=4.0.0a1->fsspec[http]>=2022.5.0->pytorch-lightning==2.4.0) (5.0.1)\n",
      "Requirement already satisfied: attrs>=17.3.0 in c:\\users\\admin\\appdata\\local\\programs\\python\\python39\\lib\\site-packages (from aiohttp!=4.0.0a0,!=4.0.0a1->fsspec[http]>=2022.5.0->pytorch-lightning==2.4.0) (25.3.0)\n",
      "Requirement already satisfied: frozenlist>=1.1.1 in c:\\users\\admin\\appdata\\local\\programs\\python\\python39\\lib\\site-packages (from aiohttp!=4.0.0a0,!=4.0.0a1->fsspec[http]>=2022.5.0->pytorch-lightning==2.4.0) (1.6.0)\n",
      "Requirement already satisfied: multidict<7.0,>=4.5 in c:\\users\\admin\\appdata\\local\\programs\\python\\python39\\lib\\site-packages (from aiohttp!=4.0.0a0,!=4.0.0a1->fsspec[http]>=2022.5.0->pytorch-lightning==2.4.0) (6.4.4)\n",
      "Requirement already satisfied: propcache>=0.2.0 in c:\\users\\admin\\appdata\\local\\programs\\python\\python39\\lib\\site-packages (from aiohttp!=4.0.0a0,!=4.0.0a1->fsspec[http]>=2022.5.0->pytorch-lightning==2.4.0) (0.3.1)\n",
      "Requirement already satisfied: yarl<2.0,>=1.17.0 in c:\\users\\admin\\appdata\\local\\programs\\python\\python39\\lib\\site-packages (from aiohttp!=4.0.0a0,!=4.0.0a1->fsspec[http]>=2022.5.0->pytorch-lightning==2.4.0) (1.20.0)\n",
      "Requirement already satisfied: idna>=2.0 in c:\\users\\admin\\appdata\\local\\programs\\python\\python39\\lib\\site-packages (from yarl<2.0,>=1.17.0->aiohttp!=4.0.0a0,!=4.0.0a1->fsspec[http]>=2022.5.0->pytorch-lightning==2.4.0) (3.10)\n",
      "Requirement already satisfied: setuptools in c:\\users\\admin\\appdata\\local\\programs\\python\\python39\\lib\\site-packages (from lightning-utilities>=0.10.0->pytorch-lightning==2.4.0) (58.1.0)\n",
      "Requirement already satisfied: filelock in c:\\users\\admin\\appdata\\local\\programs\\python\\python39\\lib\\site-packages (from torch>=2.1.0->pytorch-lightning==2.4.0) (3.18.0)\n",
      "Requirement already satisfied: sympy>=1.13.3 in c:\\users\\admin\\appdata\\local\\programs\\python\\python39\\lib\\site-packages (from torch>=2.1.0->pytorch-lightning==2.4.0) (1.14.0)\n",
      "Requirement already satisfied: networkx in c:\\users\\admin\\appdata\\local\\programs\\python\\python39\\lib\\site-packages (from torch>=2.1.0->pytorch-lightning==2.4.0) (3.2.1)\n",
      "Requirement already satisfied: jinja2 in c:\\users\\admin\\appdata\\local\\programs\\python\\python39\\lib\\site-packages (from torch>=2.1.0->pytorch-lightning==2.4.0) (3.1.6)\n",
      "Requirement already satisfied: mpmath<1.4,>=1.1.0 in c:\\users\\admin\\appdata\\local\\programs\\python\\python39\\lib\\site-packages (from sympy>=1.13.3->torch>=2.1.0->pytorch-lightning==2.4.0) (1.3.0)\n",
      "Requirement already satisfied: numpy>=1.17.2 in c:\\users\\admin\\appdata\\local\\programs\\python\\python39\\lib\\site-packages (from torchmetrics>=0.7.0->pytorch-lightning==2.4.0) (2.0.2)\n",
      "Requirement already satisfied: colorama in c:\\users\\admin\\appdata\\roaming\\python\\python39\\site-packages (from tqdm>=4.57.0->pytorch-lightning==2.4.0) (0.4.6)\n",
      "Requirement already satisfied: MarkupSafe>=2.0 in c:\\users\\admin\\appdata\\local\\programs\\python\\python39\\lib\\site-packages (from jinja2->torch>=2.1.0->pytorch-lightning==2.4.0) (3.0.2)\n",
      "Note: you may need to restart the kernel to use updated packages.\n"
     ]
    }
   ],
   "source": [
    "pip install pytorch-lightning==2.4.0"
   ]
  },
  {
   "cell_type": "code",
   "execution_count": 19,
   "id": "11b4d2a3",
   "metadata": {},
   "outputs": [
    {
     "name": "stdout",
     "output_type": "stream",
     "text": [
      "2.4.0\n"
     ]
    }
   ],
   "source": [
    "import pytorch_lightning\n",
    "\n",
    "print(pytorch_lightning.__version__)"
   ]
  },
  {
   "cell_type": "code",
   "execution_count": 20,
   "id": "25b82bfe",
   "metadata": {
    "ExecuteTime": {
     "end_time": "2022-05-17T15:29:54.974256Z",
     "start_time": "2022-05-17T15:29:54.483912Z"
    }
   },
   "outputs": [],
   "source": [
    "import torch.nn as nn\n",
    "from ecgxai.network.doubleresidual.modules import CNNDoubleResidual, Reshape\n",
    "\n",
    "# Initualize the double reisdual convolutional resnet\n",
    "cnn = CNNDoubleResidual(\n",
    "    num_layers=10,\n",
    "    in_sample_dim=5000,\n",
    "    in_channels=12,\n",
    "    kernel_size=7,\n",
    "    dropout_rate=0.1,\n",
    "    sub_sample_every=1,\n",
    "    double_channel_every=4,\n",
    "    act_func=nn.ReLU(),\n",
    "    batchnorm=True\n",
    ")\n",
    "\n",
    "# use the calculate_output_dim to see what size the output of the CNN is\n",
    "cnn_output_dim, cnn_output_channels, cnn_output_samples = cnn.calculate_output_dim()\n",
    "\n",
    "# We pass this calculated size to a linear layer that then maps the data to 4 outputs per ecg\n",
    "class_model = nn.Sequential(\n",
    "    cnn,\n",
    "    nn.Linear(cnn_output_dim, 4),\n",
    ")"
   ]
  },
  {
   "cell_type": "code",
   "execution_count": 21,
   "id": "2f328f37",
   "metadata": {
    "ExecuteTime": {
     "end_time": "2022-05-17T15:29:59.290123Z",
     "start_time": "2022-05-17T15:29:54.975453Z"
    }
   },
   "outputs": [
    {
     "data": {
      "text/plain": [
       "==============================================================================================================\n",
       "Layer (type:depth-idx)                                       Output Shape              Param #\n",
       "==============================================================================================================\n",
       "Sequential                                                   [1, 4]                    --\n",
       "├─CNNDoubleResidual: 1-1                                     [1, 432]                  --\n",
       "│    └─Sequential: 2-1                                       [1, 432]                  --\n",
       "│    │    └─ResidualMaxPoolDoubleConvBlockForward: 3-1       [1, 12, 5000]             2,088\n",
       "│    │    │    └─MaxPool1d: 4-1                              [1, 12, 5000]             --\n",
       "│    │    │    └─Sequential: 4-4                             --                        (recursive)\n",
       "│    │    │    │    └─BatchNorm1d: 5-1                       [1, 12, 5000]             24\n",
       "│    │    └─ResidualMaxPoolDoubleConvBlockForward: 3-26      --                        (recursive)\n",
       "│    │    │    └─Sequential: 4-38                            --                        (recursive)\n",
       "│    │    │    │    └─ReLU: 5-2                              [1, 12, 5000]             --\n",
       "│    │    └─ResidualMaxPoolDoubleConvBlockForward: 3-3       --                        (recursive)\n",
       "│    │    │    └─Sequential: 4-4                             --                        (recursive)\n",
       "│    │    │    │    └─ConstantPad1d: 5-3                     [1, 12, 5006]             --\n",
       "│    │    │    │    └─Conv1d: 5-4                            [1, 12, 5000]             1,020\n",
       "│    │    │    │    └─BatchNorm1d: 5-5                       [1, 12, 5000]             24\n",
       "│    │    │    │    └─ReLU: 5-6                              [1, 12, 5000]             --\n",
       "│    │    │    │    └─Dropout: 5-7                           [1, 12, 5000]             --\n",
       "│    │    │    │    └─ConstantPad1d: 5-8                     [1, 12, 5006]             --\n",
       "│    │    │    │    └─Conv1d: 5-9                            [1, 12, 5000]             1,020\n",
       "│    │    │    │    └─BatchNorm1d: 5-10                      [1, 12, 5000]             24\n",
       "│    │    └─ResidualMaxPoolDoubleConvBlockForward: 3-4       [1, 12, 2500]             2,088\n",
       "│    │    │    └─MaxPool1d: 4-5                              [1, 12, 2500]             --\n",
       "│    │    │    └─Sequential: 4-8                             --                        (recursive)\n",
       "│    │    │    │    └─BatchNorm1d: 5-11                      [1, 12, 5000]             24\n",
       "│    │    └─ResidualMaxPoolDoubleConvBlockForward: 3-26      --                        (recursive)\n",
       "│    │    │    └─Sequential: 4-38                            --                        (recursive)\n",
       "│    │    │    │    └─ReLU: 5-12                             [1, 12, 5000]             --\n",
       "│    │    └─ResidualMaxPoolDoubleConvBlockForward: 3-6       --                        (recursive)\n",
       "│    │    │    └─Sequential: 4-8                             --                        (recursive)\n",
       "│    │    │    │    └─ConstantPad1d: 5-13                    [1, 12, 5006]             --\n",
       "│    │    │    │    └─Conv1d: 5-14                           [1, 12, 2500]             1,020\n",
       "│    │    │    │    └─BatchNorm1d: 5-15                      [1, 12, 2500]             24\n",
       "│    │    │    │    └─ReLU: 5-16                             [1, 12, 2500]             --\n",
       "│    │    │    │    └─Dropout: 5-17                          [1, 12, 2500]             --\n",
       "│    │    │    │    └─ConstantPad1d: 5-18                    [1, 12, 2506]             --\n",
       "│    │    │    │    └─Conv1d: 5-19                           [1, 12, 2500]             1,020\n",
       "│    │    │    │    └─BatchNorm1d: 5-20                      [1, 12, 2500]             24\n",
       "│    │    └─ResidualMaxPoolDoubleConvBlockForward: 3-7       [1, 12, 1250]             2,088\n",
       "│    │    │    └─MaxPool1d: 4-9                              [1, 12, 1250]             --\n",
       "│    │    │    └─Sequential: 4-12                            --                        (recursive)\n",
       "│    │    │    │    └─BatchNorm1d: 5-21                      [1, 12, 2500]             24\n",
       "│    │    └─ResidualMaxPoolDoubleConvBlockForward: 3-26      --                        (recursive)\n",
       "│    │    │    └─Sequential: 4-38                            --                        (recursive)\n",
       "│    │    │    │    └─ReLU: 5-22                             [1, 12, 2500]             --\n",
       "│    │    └─ResidualMaxPoolDoubleConvBlockForward: 3-9       --                        (recursive)\n",
       "│    │    │    └─Sequential: 4-12                            --                        (recursive)\n",
       "│    │    │    │    └─ConstantPad1d: 5-23                    [1, 12, 2506]             --\n",
       "│    │    │    │    └─Conv1d: 5-24                           [1, 12, 1250]             1,020\n",
       "│    │    │    │    └─BatchNorm1d: 5-25                      [1, 12, 1250]             24\n",
       "│    │    │    │    └─ReLU: 5-26                             [1, 12, 1250]             --\n",
       "│    │    │    │    └─Dropout: 5-27                          [1, 12, 1250]             --\n",
       "│    │    │    │    └─ConstantPad1d: 5-28                    [1, 12, 1256]             --\n",
       "│    │    │    │    └─Conv1d: 5-29                           [1, 12, 1250]             1,020\n",
       "│    │    │    │    └─BatchNorm1d: 5-30                      [1, 12, 1250]             24\n",
       "│    │    └─ResidualMaxPoolDoubleConvBlockForward: 3-10      [1, 24, 625]              6,192\n",
       "│    │    │    └─MaxPool1d: 4-13                             [1, 24, 625]              --\n",
       "│    │    │    └─Sequential: 4-16                            --                        (recursive)\n",
       "│    │    │    │    └─BatchNorm1d: 5-31                      [1, 12, 1250]             24\n",
       "│    │    └─ResidualMaxPoolDoubleConvBlockForward: 3-26      --                        (recursive)\n",
       "│    │    │    └─Sequential: 4-38                            --                        (recursive)\n",
       "│    │    │    │    └─ReLU: 5-32                             [1, 12, 1250]             --\n",
       "│    │    └─ResidualMaxPoolDoubleConvBlockForward: 3-12      --                        (recursive)\n",
       "│    │    │    └─Sequential: 4-16                            --                        (recursive)\n",
       "│    │    │    │    └─ConstantPad1d: 5-33                    [1, 12, 1256]             --\n",
       "│    │    │    │    └─Conv1d: 5-34                           [1, 24, 625]              2,040\n",
       "│    │    │    │    └─BatchNorm1d: 5-35                      [1, 24, 625]              48\n",
       "│    │    │    │    └─ReLU: 5-36                             [1, 24, 625]              --\n",
       "│    │    │    │    └─Dropout: 5-37                          [1, 24, 625]              --\n",
       "│    │    │    │    └─ConstantPad1d: 5-38                    [1, 24, 631]              --\n",
       "│    │    │    │    └─Conv1d: 5-39                           [1, 24, 625]              4,056\n",
       "│    │    │    │    └─BatchNorm1d: 5-40                      [1, 24, 625]              48\n",
       "│    │    └─ResidualMaxPoolDoubleConvBlockForward: 3-13      [1, 24, 312]              8,208\n",
       "│    │    │    └─MaxPool1d: 4-17                             [1, 24, 312]              --\n",
       "│    │    │    └─Sequential: 4-20                            --                        (recursive)\n",
       "│    │    │    │    └─BatchNorm1d: 5-41                      [1, 24, 625]              48\n",
       "│    │    └─ResidualMaxPoolDoubleConvBlockForward: 3-26      --                        (recursive)\n",
       "│    │    │    └─Sequential: 4-38                            --                        (recursive)\n",
       "│    │    │    │    └─ReLU: 5-42                             [1, 24, 625]              --\n",
       "│    │    └─ResidualMaxPoolDoubleConvBlockForward: 3-15      --                        (recursive)\n",
       "│    │    │    └─Sequential: 4-20                            --                        (recursive)\n",
       "│    │    │    │    └─ConstantPad1d: 5-43                    [1, 24, 631]              --\n",
       "│    │    │    │    └─Conv1d: 5-44                           [1, 24, 313]              4,056\n",
       "│    │    │    │    └─BatchNorm1d: 5-45                      [1, 24, 313]              48\n",
       "│    │    │    │    └─ReLU: 5-46                             [1, 24, 313]              --\n",
       "│    │    │    │    └─Dropout: 5-47                          [1, 24, 313]              --\n",
       "│    │    │    │    └─ConstantPad1d: 5-48                    [1, 24, 318]              --\n",
       "│    │    │    │    └─Conv1d: 5-49                           [1, 24, 312]              4,056\n",
       "│    │    │    │    └─BatchNorm1d: 5-50                      [1, 24, 312]              48\n",
       "│    │    └─ResidualMaxPoolDoubleConvBlockForward: 3-16      [1, 24, 156]              8,208\n",
       "│    │    │    └─MaxPool1d: 4-21                             [1, 24, 156]              --\n",
       "│    │    │    └─Sequential: 4-24                            --                        (recursive)\n",
       "│    │    │    │    └─BatchNorm1d: 5-51                      [1, 24, 312]              48\n",
       "│    │    └─ResidualMaxPoolDoubleConvBlockForward: 3-26      --                        (recursive)\n",
       "│    │    │    └─Sequential: 4-38                            --                        (recursive)\n",
       "│    │    │    │    └─ReLU: 5-52                             [1, 24, 312]              --\n",
       "│    │    └─ResidualMaxPoolDoubleConvBlockForward: 3-18      --                        (recursive)\n",
       "│    │    │    └─Sequential: 4-24                            --                        (recursive)\n",
       "│    │    │    │    └─ConstantPad1d: 5-53                    [1, 24, 318]              --\n",
       "│    │    │    │    └─Conv1d: 5-54                           [1, 24, 156]              4,056\n",
       "│    │    │    │    └─BatchNorm1d: 5-55                      [1, 24, 156]              48\n",
       "│    │    │    │    └─ReLU: 5-56                             [1, 24, 156]              --\n",
       "│    │    │    │    └─Dropout: 5-57                          [1, 24, 156]              --\n",
       "│    │    │    │    └─ConstantPad1d: 5-58                    [1, 24, 162]              --\n",
       "│    │    │    │    └─Conv1d: 5-59                           [1, 24, 156]              4,056\n",
       "│    │    │    │    └─BatchNorm1d: 5-60                      [1, 24, 156]              48\n",
       "│    │    └─ResidualMaxPoolDoubleConvBlockForward: 3-19      [1, 24, 78]               8,208\n",
       "│    │    │    └─MaxPool1d: 4-25                             [1, 24, 78]               --\n",
       "│    │    │    └─Sequential: 4-28                            --                        (recursive)\n",
       "│    │    │    │    └─BatchNorm1d: 5-61                      [1, 24, 156]              48\n",
       "│    │    └─ResidualMaxPoolDoubleConvBlockForward: 3-26      --                        (recursive)\n",
       "│    │    │    └─Sequential: 4-38                            --                        (recursive)\n",
       "│    │    │    │    └─ReLU: 5-62                             [1, 24, 156]              --\n",
       "│    │    └─ResidualMaxPoolDoubleConvBlockForward: 3-21      --                        (recursive)\n",
       "│    │    │    └─Sequential: 4-28                            --                        (recursive)\n",
       "│    │    │    │    └─ConstantPad1d: 5-63                    [1, 24, 162]              --\n",
       "│    │    │    │    └─Conv1d: 5-64                           [1, 24, 78]               4,056\n",
       "│    │    │    │    └─BatchNorm1d: 5-65                      [1, 24, 78]               48\n",
       "│    │    │    │    └─ReLU: 5-66                             [1, 24, 78]               --\n",
       "│    │    │    │    └─Dropout: 5-67                          [1, 24, 78]               --\n",
       "│    │    │    │    └─ConstantPad1d: 5-68                    [1, 24, 84]               --\n",
       "│    │    │    │    └─Conv1d: 5-69                           [1, 24, 78]               4,056\n",
       "│    │    │    │    └─BatchNorm1d: 5-70                      [1, 24, 78]               48\n",
       "│    │    └─ResidualMaxPoolDoubleConvBlockForward: 3-22      [1, 48, 39]               24,480\n",
       "│    │    │    └─MaxPool1d: 4-29                             [1, 48, 39]               --\n",
       "│    │    │    └─Sequential: 4-32                            --                        (recursive)\n",
       "│    │    │    │    └─BatchNorm1d: 5-71                      [1, 24, 78]               48\n",
       "│    │    └─ResidualMaxPoolDoubleConvBlockForward: 3-26      --                        (recursive)\n",
       "│    │    │    └─Sequential: 4-38                            --                        (recursive)\n",
       "│    │    │    │    └─ReLU: 5-72                             [1, 24, 78]               --\n",
       "│    │    └─ResidualMaxPoolDoubleConvBlockForward: 3-24      --                        (recursive)\n",
       "│    │    │    └─Sequential: 4-32                            --                        (recursive)\n",
       "│    │    │    │    └─ConstantPad1d: 5-73                    [1, 24, 84]               --\n",
       "│    │    │    │    └─Conv1d: 5-74                           [1, 48, 39]               8,112\n",
       "│    │    │    │    └─BatchNorm1d: 5-75                      [1, 48, 39]               96\n",
       "│    │    │    │    └─ReLU: 5-76                             [1, 48, 39]               --\n",
       "│    │    │    │    └─Dropout: 5-77                          [1, 48, 39]               --\n",
       "│    │    │    │    └─ConstantPad1d: 5-78                    [1, 48, 45]               --\n",
       "│    │    │    │    └─Conv1d: 5-79                           [1, 48, 39]               16,176\n",
       "│    │    │    │    └─BatchNorm1d: 5-80                      [1, 48, 39]               96\n",
       "│    │    └─ResidualMaxPoolDoubleConvBlockForward: 3-25      [1, 48, 19]               32,544\n",
       "│    │    │    └─MaxPool1d: 4-33                             [1, 48, 19]               --\n",
       "│    │    │    └─Sequential: 4-36                            --                        (recursive)\n",
       "│    │    │    │    └─BatchNorm1d: 5-81                      [1, 48, 39]               96\n",
       "│    │    └─ResidualMaxPoolDoubleConvBlockForward: 3-26      --                        (recursive)\n",
       "│    │    │    └─Sequential: 4-38                            --                        (recursive)\n",
       "│    │    │    │    └─ReLU: 5-82                             [1, 48, 39]               --\n",
       "│    │    └─ResidualMaxPoolDoubleConvBlockForward: 3-27      --                        (recursive)\n",
       "│    │    │    └─Sequential: 4-36                            --                        (recursive)\n",
       "│    │    │    │    └─ConstantPad1d: 5-83                    [1, 48, 45]               --\n",
       "│    │    │    │    └─Conv1d: 5-84                           [1, 48, 20]               16,176\n",
       "│    │    │    │    └─BatchNorm1d: 5-85                      [1, 48, 20]               96\n",
       "│    │    │    │    └─ReLU: 5-86                             [1, 48, 20]               --\n",
       "│    │    │    │    └─Dropout: 5-87                          [1, 48, 20]               --\n",
       "│    │    │    │    └─ConstantPad1d: 5-88                    [1, 48, 25]               --\n",
       "│    │    │    │    └─Conv1d: 5-89                           [1, 48, 19]               16,176\n",
       "│    │    │    │    └─BatchNorm1d: 5-90                      [1, 48, 19]               96\n",
       "│    │    └─ResidualMaxPoolDoubleConvBlockForward: 3-28      [1, 48, 9]                --\n",
       "│    │    │    └─MaxPool1d: 4-37                             [1, 48, 9]                --\n",
       "│    │    │    └─Sequential: 4-38                            --                        (recursive)\n",
       "│    │    │    │    └─BatchNorm1d: 5-91                      [1, 48, 19]               96\n",
       "│    │    │    │    └─ReLU: 5-92                             [1, 48, 19]               --\n",
       "│    │    │    │    └─ConstantPad1d: 5-93                    [1, 48, 25]               --\n",
       "│    │    │    │    └─Conv1d: 5-94                           [1, 48, 10]               16,176\n",
       "│    │    │    │    └─BatchNorm1d: 5-95                      [1, 48, 10]               96\n",
       "│    │    │    │    └─ReLU: 5-96                             [1, 48, 10]               --\n",
       "│    │    │    │    └─Dropout: 5-97                          [1, 48, 10]               --\n",
       "│    │    │    │    └─ConstantPad1d: 5-98                    [1, 48, 15]               --\n",
       "│    │    │    │    └─Conv1d: 5-99                           [1, 48, 9]                16,176\n",
       "│    │    │    │    └─BatchNorm1d: 5-100                     [1, 48, 9]                96\n",
       "│    │    └─Flatten: 3-29                                    [1, 432]                  --\n",
       "├─Linear: 1-2                                                [1, 4]                    1,732\n",
       "==============================================================================================================\n",
       "Total params: 222,964\n",
       "Trainable params: 222,964\n",
       "Non-trainable params: 0\n",
       "Total mult-adds (M): 27.98\n",
       "==============================================================================================================\n",
       "Input size (MB): 0.24\n",
       "Forward/backward pass size (MB): 5.93\n",
       "Params size (MB): 0.52\n",
       "Estimated Total Size (MB): 6.69\n",
       "=============================================================================================================="
      ]
     },
     "execution_count": 21,
     "metadata": {},
     "output_type": "execute_result"
    }
   ],
   "source": [
    "from torchinfo import summary\n",
    "\n",
    "batch_size = 16\n",
    "summary(class_model, input_size=(1, 12, 5000), depth=50)"
   ]
  },
  {
   "cell_type": "code",
   "execution_count": 22,
   "id": "547b2c7c",
   "metadata": {
    "ExecuteTime": {
     "end_time": "2022-05-17T15:33:41.880067Z",
     "start_time": "2022-05-17T15:33:41.691285Z"
    }
   },
   "outputs": [
    {
     "name": "stdout",
     "output_type": "stream",
     "text": [
      "The autoreload extension is already loaded. To reload it, use:\n",
      "  %reload_ext autoreload\n",
      "['y_hat', 'label']\n"
     ]
    },
    {
     "name": "stderr",
     "output_type": "stream",
     "text": [
      "c:\\Users\\admin\\AppData\\Local\\Programs\\Python\\Python39\\lib\\site-packages\\torchmetrics\\utilities\\prints.py:36: UserWarning: Metric `AUROC` will save all targets and predictions in buffer. For large datasets this may lead to large memory footprint.\n",
      "  warnings.warn(*args, **kwargs)\n",
      "c:\\Users\\admin\\AppData\\Local\\Programs\\Python\\Python39\\lib\\site-packages\\torchmetrics\\utilities\\prints.py:36: UserWarning: Torchmetrics v0.9 introduced a new argument class property called `full_state_update` that has\n",
      "                not been set for this class (TMW). The property determines if `update` by\n",
      "                default needs access to the full metric state. If this is not the case, significant speedups can be\n",
      "                achieved and we recommend setting this to `False`.\n",
      "                We provide an checking function\n",
      "                `from torchmetrics.utilities import check_forward_no_full_state`\n",
      "                that can be used to check if the `full_state_update=True` (old and potential slower behaviour,\n",
      "                default for now) or if `full_state_update=False` can be used safely.\n",
      "                \n",
      "  warnings.warn(*args, **kwargs)\n",
      "c:\\Users\\admin\\AppData\\Local\\Programs\\Python\\Python39\\lib\\site-packages\\pytorch_lightning\\utilities\\parsing.py:208: Attribute 'model' is an instance of `nn.Module` and is already saved during checkpointing. It is recommended to ignore them using `self.save_hyperparameters(ignore=['model'])`.\n",
      "c:\\Users\\admin\\AppData\\Local\\Programs\\Python\\Python39\\lib\\site-packages\\pytorch_lightning\\utilities\\parsing.py:208: Attribute 'test_metrics' is an instance of `nn.Module` and is already saved during checkpointing. It is recommended to ignore them using `self.save_hyperparameters(ignore=['test_metrics'])`.\n",
      "c:\\Users\\admin\\AppData\\Local\\Programs\\Python\\Python39\\lib\\site-packages\\pytorch_lightning\\utilities\\parsing.py:208: Attribute 'loss' is an instance of `nn.Module` and is already saved during checkpointing. It is recommended to ignore them using `self.save_hyperparameters(ignore=['loss'])`.\n"
     ]
    }
   ],
   "source": [
    "%load_ext autoreload\n",
    "%autoreload 2\n",
    "from ecgxai.systems.classification_system import ClassificationSystem\n",
    "from ecgxai.utils.loss import TW\n",
    "from ecgxai.utils.metrics import TMW\n",
    "\n",
    "from torchmetrics import MetricCollection, AUROC, F1Score, Accuracy, Precision, Recall\n",
    "\n",
    "metrics = {\n",
    "   'AUROC':  TMW(\n",
    "       AUROC(task=\"multiclass\", num_classes=4, average=None),\n",
    "       ['y_prob', 'label'],\n",
    "       int_args=['label'], \n",
    "       out_labels=['NSR', 'SA', 'SB', 'STach']\n",
    "   ),\n",
    "   'Precision': TMW(\n",
    "       Precision(task='multiclass', num_classes=4, average=None),\n",
    "       ['y_prob', 'label'],\n",
    "       int_args=['label'],\n",
    "       out_labels=['NSR', 'SA', 'SB', 'STach']\n",
    "   ),\n",
    "   'Recall': TMW(\n",
    "       Recall(task='multiclass', num_classes=4, average=None),\n",
    "       ['y_prob', 'label'],\n",
    "       int_args=['label'],\n",
    "       out_labels=['NSR', 'SA', 'SB', 'STach']\n",
    "   ),\n",
    "   'Accuracy': TMW(\n",
    "       Accuracy(task='multiclass', num_classes=4, average=None),\n",
    "       ['y_prob', 'label'],\n",
    "       int_args=['label'],\n",
    "       out_labels=['NSR', 'SA', 'SB', 'STach']\n",
    "   ),\n",
    "   'F1': TMW(\n",
    "       F1Score(task='multiclass', num_classes=4, average=None),\n",
    "       ['y_prob', 'label'],\n",
    "       int_args=['label'],\n",
    "       out_labels=['NSR', 'SA', 'SB', 'STach']\n",
    "   )\n",
    "} \n",
    "\n",
    "metrics = MetricCollection(metrics)\n",
    "    \n",
    "model = ClassificationSystem(\n",
    "    lr=0.001,\n",
    "    mode='multi_class',\n",
    "    model=class_model,\n",
    "    test_metrics=metrics,\n",
    "    loss=TW(nn.CrossEntropyLoss(), ['y_hat', 'label'], long_args=['label'], arg_max_args=['label'])\n",
    ")"
   ]
  },
  {
   "cell_type": "code",
   "execution_count": 23,
   "id": "e5c3d804",
   "metadata": {},
   "outputs": [
    {
     "name": "stdout",
     "output_type": "stream",
     "text": [
      "Requirement already satisfied: tensorboardX in c:\\users\\admin\\appdata\\local\\programs\\python\\python39\\lib\\site-packages (2.6.2.2)\n",
      "Requirement already satisfied: numpy in c:\\users\\admin\\appdata\\local\\programs\\python\\python39\\lib\\site-packages (from tensorboardX) (2.0.2)\n",
      "Requirement already satisfied: packaging in c:\\users\\admin\\appdata\\roaming\\python\\python39\\site-packages (from tensorboardX) (25.0)\n",
      "Requirement already satisfied: protobuf>=3.20 in c:\\users\\admin\\appdata\\local\\programs\\python\\python39\\lib\\site-packages (from tensorboardX) (3.20.1)\n",
      "Note: you may need to restart the kernel to use updated packages.\n"
     ]
    }
   ],
   "source": [
    "pip install tensorboardX"
   ]
  },
  {
   "cell_type": "code",
   "execution_count": 24,
   "id": "6cf8027f",
   "metadata": {},
   "outputs": [
    {
     "name": "stdout",
     "output_type": "stream",
     "text": [
      "Requirement already satisfied: tensorboard in c:\\users\\admin\\appdata\\local\\programs\\python\\python39\\lib\\site-packages (2.19.0)\n",
      "Requirement already satisfied: absl-py>=0.4 in c:\\users\\admin\\appdata\\local\\programs\\python\\python39\\lib\\site-packages (from tensorboard) (2.3.0)\n",
      "Requirement already satisfied: grpcio>=1.48.2 in c:\\users\\admin\\appdata\\local\\programs\\python\\python39\\lib\\site-packages (from tensorboard) (1.71.0)\n",
      "Requirement already satisfied: markdown>=2.6.8 in c:\\users\\admin\\appdata\\local\\programs\\python\\python39\\lib\\site-packages (from tensorboard) (3.8)\n",
      "Requirement already satisfied: numpy>=1.12.0 in c:\\users\\admin\\appdata\\local\\programs\\python\\python39\\lib\\site-packages (from tensorboard) (2.0.2)\n",
      "Requirement already satisfied: packaging in c:\\users\\admin\\appdata\\roaming\\python\\python39\\site-packages (from tensorboard) (25.0)\n",
      "Requirement already satisfied: protobuf!=4.24.0,>=3.19.6 in c:\\users\\admin\\appdata\\local\\programs\\python\\python39\\lib\\site-packages (from tensorboard) (3.20.1)\n",
      "Requirement already satisfied: setuptools>=41.0.0 in c:\\users\\admin\\appdata\\local\\programs\\python\\python39\\lib\\site-packages (from tensorboard) (58.1.0)\n",
      "Requirement already satisfied: six>1.9 in c:\\users\\admin\\appdata\\roaming\\python\\python39\\site-packages (from tensorboard) (1.17.0)\n",
      "Requirement already satisfied: tensorboard-data-server<0.8.0,>=0.7.0 in c:\\users\\admin\\appdata\\local\\programs\\python\\python39\\lib\\site-packages (from tensorboard) (0.7.2)\n",
      "Requirement already satisfied: werkzeug>=1.0.1 in c:\\users\\admin\\appdata\\local\\programs\\python\\python39\\lib\\site-packages (from tensorboard) (3.1.3)\n",
      "Requirement already satisfied: importlib-metadata>=4.4 in c:\\users\\admin\\appdata\\roaming\\python\\python39\\site-packages (from markdown>=2.6.8->tensorboard) (8.7.0)\n",
      "Requirement already satisfied: zipp>=3.20 in c:\\users\\admin\\appdata\\roaming\\python\\python39\\site-packages (from importlib-metadata>=4.4->markdown>=2.6.8->tensorboard) (3.22.0)\n",
      "Requirement already satisfied: MarkupSafe>=2.1.1 in c:\\users\\admin\\appdata\\local\\programs\\python\\python39\\lib\\site-packages (from werkzeug>=1.0.1->tensorboard) (3.0.2)\n",
      "Note: you may need to restart the kernel to use updated packages.\n"
     ]
    }
   ],
   "source": [
    "pip install tensorboard"
   ]
  },
  {
   "cell_type": "code",
   "execution_count": 25,
   "id": "5d07f5b9",
   "metadata": {
    "ExecuteTime": {
     "end_time": "2022-05-17T15:34:54.834212Z",
     "start_time": "2022-05-17T15:34:27.464009Z"
    }
   },
   "outputs": [
    {
     "name": "stderr",
     "output_type": "stream",
     "text": [
      "GPU available: False, used: False\n",
      "TPU available: False, using: 0 TPU cores\n",
      "HPU available: False, using: 0 HPUs\n",
      "c:\\Users\\admin\\AppData\\Local\\Programs\\Python\\Python39\\lib\\site-packages\\pytorch_lightning\\trainer\\configuration_validator.py:70: You defined a `validation_step` but have no `val_dataloader`. Skipping val loop.\n",
      "\n",
      "  | Name         | Type             | Params | Mode \n",
      "----------------------------------------------------------\n",
      "0 | test_metrics | MetricCollection | 0      | train\n",
      "1 | loss         | TW               | 0      | train\n",
      "2 | prob_func    | Softmax          | 0      | train\n",
      "3 | model        | Sequential       | 128 K  | train\n",
      "----------------------------------------------------------\n",
      "128 K     Trainable params\n",
      "0         Non-trainable params\n",
      "128 K     Total params\n",
      "0.515     Total estimated model params size (MB)\n",
      "140       Modules in train mode\n",
      "0         Modules in eval mode\n",
      "c:\\Users\\admin\\AppData\\Local\\Programs\\Python\\Python39\\lib\\site-packages\\pytorch_lightning\\core\\saving.py:363: Skipping 'model' parameter because it is not possible to safely dump to YAML.\n",
      "c:\\Users\\admin\\AppData\\Local\\Programs\\Python\\Python39\\lib\\site-packages\\pytorch_lightning\\core\\saving.py:363: Skipping 'loss' parameter because it is not possible to safely dump to YAML.\n",
      "c:\\Users\\admin\\AppData\\Local\\Programs\\Python\\Python39\\lib\\site-packages\\pytorch_lightning\\trainer\\connectors\\data_connector.py:419: Consider setting `persistent_workers=True` in 'train_dataloader' to speed up the dataloader worker initialization.\n"
     ]
    },
    {
     "name": "stdout",
     "output_type": "stream",
     "text": [
      "Epoch 9: 100%|██████████| 308/308 [01:49<00:00,  2.81it/s, v_num=1]"
     ]
    },
    {
     "name": "stderr",
     "output_type": "stream",
     "text": [
      "`Trainer.fit` stopped: `max_epochs=10` reached.\n"
     ]
    },
    {
     "name": "stdout",
     "output_type": "stream",
     "text": [
      "Epoch 9: 100%|██████████| 308/308 [01:49<00:00,  2.81it/s, v_num=1]\n"
     ]
    },
    {
     "name": "stderr",
     "output_type": "stream",
     "text": [
      "c:\\Users\\admin\\AppData\\Local\\Programs\\Python\\Python39\\lib\\site-packages\\pytorch_lightning\\trainer\\connectors\\data_connector.py:419: Consider setting `persistent_workers=True` in 'test_dataloader' to speed up the dataloader worker initialization.\n"
     ]
    },
    {
     "name": "stdout",
     "output_type": "stream",
     "text": [
      "Testing DataLoader 0:   3%|▎         | 1/35 [00:00<00:06,  5.16it/s]"
     ]
    },
    {
     "name": "stderr",
     "output_type": "stream",
     "text": [
      "c:\\Users\\admin\\AppData\\Local\\Programs\\Python\\Python39\\lib\\site-packages\\pytorch_lightning\\utilities\\data.py:78: Trying to infer the `batch_size` from an ambiguous collection. The batch size we found is 64. To avoid any miscalculations, use `self.log(..., batch_size=batch_size)`.\n"
     ]
    },
    {
     "name": "stdout",
     "output_type": "stream",
     "text": [
      "Testing DataLoader 0:  14%|█▍        | 5/35 [00:00<00:04,  6.40it/s]"
     ]
    },
    {
     "name": "stderr",
     "output_type": "stream",
     "text": [
      "c:\\Users\\admin\\AppData\\Local\\Programs\\Python\\Python39\\lib\\site-packages\\torchmetrics\\utilities\\prints.py:36: UserWarning: No positive samples in targets, true positive value should be meaningless. Returning zero tensor in true positive score\n",
      "  warnings.warn(*args, **kwargs)\n"
     ]
    },
    {
     "name": "stdout",
     "output_type": "stream",
     "text": [
      "Testing DataLoader 0: 100%|██████████| 35/35 [00:03<00:00,  9.59it/s]\n",
      "────────────────────────────────────────────────────────────────────────────────────────────────────────────────────────\n",
      "       Test metric             DataLoader 0\n",
      "────────────────────────────────────────────────────────────────────────────────────────────────────────────────────────\n",
      "        test_NSR            0.9898340702056885\n",
      "         test_SA                    0.0\n",
      "         test_SB            0.22876298427581787\n",
      "       test_STach           0.5421181917190552\n",
      "        test_loss           0.21130917966365814\n",
      "────────────────────────────────────────────────────────────────────────────────────────────────────────────────────────\n"
     ]
    },
    {
     "name": "stderr",
     "output_type": "stream",
     "text": [
      "c:\\Users\\admin\\AppData\\Local\\Programs\\Python\\Python39\\lib\\site-packages\\pytorch_lightning\\utilities\\data.py:78: Trying to infer the `batch_size` from an ambiguous collection. The batch size we found is 8. To avoid any miscalculations, use `self.log(..., batch_size=batch_size)`.\n"
     ]
    },
    {
     "name": "stdout",
     "output_type": "stream",
     "text": [
      "Done\n"
     ]
    }
   ],
   "source": [
    "import pytorch_lightning as pl\n",
    "import torch\n",
    "from pytorch_lightning.callbacks import ModelCheckpoint\n",
    "from pytorch_lightning.loggers import TensorBoardLogger\n",
    "\n",
    "logger = TensorBoardLogger(\"tb_logs\", name=\"my_model\")\n",
    "\n",
    "trainer = pl.Trainer(\n",
    "        max_epochs=10,\n",
    "        accelerator='gpu' if torch.cuda.is_available() else 'cpu',\n",
    "        devices=1,\n",
    "        logger=logger,\n",
    "        callbacks=[\n",
    "            ModelCheckpoint(\n",
    "                save_last=True\n",
    "            ),\n",
    "        ]\n",
    "    )\n",
    "\n",
    "trainer.fit(model, train_dataloaders=train_loader)\n",
    "trainer.test(model=model, dataloaders=test_loader)\n",
    "\n",
    "print(\"Done\")"
   ]
  }
 ],
 "metadata": {
  "kernelspec": {
   "display_name": "Python 3",
   "language": "python",
   "name": "python3"
  },
  "language_info": {
   "codemirror_mode": {
    "name": "ipython",
    "version": 3
   },
   "file_extension": ".py",
   "mimetype": "text/x-python",
   "name": "python",
   "nbconvert_exporter": "python",
   "pygments_lexer": "ipython3",
   "version": "3.9.13"
  },
  "latex_envs": {
   "LaTeX_envs_menu_present": true,
   "autoclose": false,
   "autocomplete": true,
   "bibliofile": "biblio.bib",
   "cite_by": "apalike",
   "current_citInitial": 1,
   "eqLabelWithNumbers": true,
   "eqNumInitial": 1,
   "hotkeys": {
    "equation": "Ctrl-E",
    "itemize": "Ctrl-I"
   },
   "labels_anchors": false,
   "latex_user_defs": false,
   "report_style_numbering": false,
   "user_envs_cfg": false
  },
  "toc": {
   "base_numbering": 1,
   "nav_menu": {},
   "number_sections": false,
   "sideBar": true,
   "skip_h1_title": false,
   "title_cell": "Table of Contents",
   "title_sidebar": "Contents",
   "toc_cell": false,
   "toc_position": {},
   "toc_section_display": true,
   "toc_window_display": false
  }
 },
 "nbformat": 4,
 "nbformat_minor": 5
}
